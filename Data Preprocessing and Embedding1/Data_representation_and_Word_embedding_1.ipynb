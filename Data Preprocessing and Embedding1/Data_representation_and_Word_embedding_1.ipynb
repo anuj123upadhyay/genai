{
  "nbformat": 4,
  "nbformat_minor": 0,
  "metadata": {
    "colab": {
      "provenance": [],
      "mount_file_id": "1TzzOc6-ze4-KTIFfNbPHcb1yMXEq722O",
      "authorship_tag": "ABX9TyN/7hvP79wHhGD4biTIrpfA",
      "include_colab_link": true
    },
    "kernelspec": {
      "name": "python3",
      "display_name": "Python 3"
    },
    "language_info": {
      "name": "python"
    }
  },
  "cells": [
    {
      "cell_type": "markdown",
      "metadata": {
        "id": "view-in-github",
        "colab_type": "text"
      },
      "source": [
        "<a href=\"https://colab.research.google.com/github/anuj123upadhyay/genai/blob/main/Data_representation_and_Word_embedding_1.ipynb\" target=\"_parent\"><img src=\"https://colab.research.google.com/assets/colab-badge.svg\" alt=\"Open In Colab\"/></a>"
      ]
    },
    {
      "cell_type": "markdown",
      "source": [
        "#Bag of word Technique"
      ],
      "metadata": {
        "id": "enF5g3U8Gt2T"
      }
    },
    {
      "cell_type": "markdown",
      "source": [
        "\n",
        "\n",
        "1.   Corpus\n",
        "2.   Vocabulary\n",
        "3.   Document\n",
        "4.   Word\n",
        "\n",
        "\n"
      ],
      "metadata": {
        "id": "3S5Fzf6IIK4b"
      }
    },
    {
      "cell_type": "code",
      "execution_count": 6,
      "metadata": {
        "id": "vJjapQjCFcQY"
      },
      "outputs": [],
      "source": [
        "import numpy as np\n",
        "import pandas as pd"
      ]
    },
    {
      "cell_type": "code",
      "source": [
        "df = pd.DataFrame({\"text\":[\"people watch dswithanuj\",\n",
        "                         \"dswithanuj watch dswithanuj\",\n",
        "                         \"people write comment\",\n",
        "                          \"dswithanuj write comment\"],\"output\":[1,1,0,0]})\n",
        "\n",
        "df"
      ],
      "metadata": {
        "colab": {
          "base_uri": "https://localhost:8080/",
          "height": 175
        },
        "id": "sWNmfMHnGJHD",
        "outputId": "52a6353d-f840-4cbb-b23f-0bc08df98b97"
      },
      "execution_count": 7,
      "outputs": [
        {
          "output_type": "execute_result",
          "data": {
            "text/plain": [
              "                          text  output\n",
              "0      people watch dswithanuj       1\n",
              "1  dswithanuj watch dswithanuj       1\n",
              "2         people write comment       0\n",
              "3     dswithanuj write comment       0"
            ],
            "text/html": [
              "\n",
              "  <div id=\"df-5da8a1e9-a8d7-452c-b317-de25bb23748b\" class=\"colab-df-container\">\n",
              "    <div>\n",
              "<style scoped>\n",
              "    .dataframe tbody tr th:only-of-type {\n",
              "        vertical-align: middle;\n",
              "    }\n",
              "\n",
              "    .dataframe tbody tr th {\n",
              "        vertical-align: top;\n",
              "    }\n",
              "\n",
              "    .dataframe thead th {\n",
              "        text-align: right;\n",
              "    }\n",
              "</style>\n",
              "<table border=\"1\" class=\"dataframe\">\n",
              "  <thead>\n",
              "    <tr style=\"text-align: right;\">\n",
              "      <th></th>\n",
              "      <th>text</th>\n",
              "      <th>output</th>\n",
              "    </tr>\n",
              "  </thead>\n",
              "  <tbody>\n",
              "    <tr>\n",
              "      <th>0</th>\n",
              "      <td>people watch dswithanuj</td>\n",
              "      <td>1</td>\n",
              "    </tr>\n",
              "    <tr>\n",
              "      <th>1</th>\n",
              "      <td>dswithanuj watch dswithanuj</td>\n",
              "      <td>1</td>\n",
              "    </tr>\n",
              "    <tr>\n",
              "      <th>2</th>\n",
              "      <td>people write comment</td>\n",
              "      <td>0</td>\n",
              "    </tr>\n",
              "    <tr>\n",
              "      <th>3</th>\n",
              "      <td>dswithanuj write comment</td>\n",
              "      <td>0</td>\n",
              "    </tr>\n",
              "  </tbody>\n",
              "</table>\n",
              "</div>\n",
              "    <div class=\"colab-df-buttons\">\n",
              "\n",
              "  <div class=\"colab-df-container\">\n",
              "    <button class=\"colab-df-convert\" onclick=\"convertToInteractive('df-5da8a1e9-a8d7-452c-b317-de25bb23748b')\"\n",
              "            title=\"Convert this dataframe to an interactive table.\"\n",
              "            style=\"display:none;\">\n",
              "\n",
              "  <svg xmlns=\"http://www.w3.org/2000/svg\" height=\"24px\" viewBox=\"0 -960 960 960\">\n",
              "    <path d=\"M120-120v-720h720v720H120Zm60-500h600v-160H180v160Zm220 220h160v-160H400v160Zm0 220h160v-160H400v160ZM180-400h160v-160H180v160Zm440 0h160v-160H620v160ZM180-180h160v-160H180v160Zm440 0h160v-160H620v160Z\"/>\n",
              "  </svg>\n",
              "    </button>\n",
              "\n",
              "  <style>\n",
              "    .colab-df-container {\n",
              "      display:flex;\n",
              "      gap: 12px;\n",
              "    }\n",
              "\n",
              "    .colab-df-convert {\n",
              "      background-color: #E8F0FE;\n",
              "      border: none;\n",
              "      border-radius: 50%;\n",
              "      cursor: pointer;\n",
              "      display: none;\n",
              "      fill: #1967D2;\n",
              "      height: 32px;\n",
              "      padding: 0 0 0 0;\n",
              "      width: 32px;\n",
              "    }\n",
              "\n",
              "    .colab-df-convert:hover {\n",
              "      background-color: #E2EBFA;\n",
              "      box-shadow: 0px 1px 2px rgba(60, 64, 67, 0.3), 0px 1px 3px 1px rgba(60, 64, 67, 0.15);\n",
              "      fill: #174EA6;\n",
              "    }\n",
              "\n",
              "    .colab-df-buttons div {\n",
              "      margin-bottom: 4px;\n",
              "    }\n",
              "\n",
              "    [theme=dark] .colab-df-convert {\n",
              "      background-color: #3B4455;\n",
              "      fill: #D2E3FC;\n",
              "    }\n",
              "\n",
              "    [theme=dark] .colab-df-convert:hover {\n",
              "      background-color: #434B5C;\n",
              "      box-shadow: 0px 1px 3px 1px rgba(0, 0, 0, 0.15);\n",
              "      filter: drop-shadow(0px 1px 2px rgba(0, 0, 0, 0.3));\n",
              "      fill: #FFFFFF;\n",
              "    }\n",
              "  </style>\n",
              "\n",
              "    <script>\n",
              "      const buttonEl =\n",
              "        document.querySelector('#df-5da8a1e9-a8d7-452c-b317-de25bb23748b button.colab-df-convert');\n",
              "      buttonEl.style.display =\n",
              "        google.colab.kernel.accessAllowed ? 'block' : 'none';\n",
              "\n",
              "      async function convertToInteractive(key) {\n",
              "        const element = document.querySelector('#df-5da8a1e9-a8d7-452c-b317-de25bb23748b');\n",
              "        const dataTable =\n",
              "          await google.colab.kernel.invokeFunction('convertToInteractive',\n",
              "                                                    [key], {});\n",
              "        if (!dataTable) return;\n",
              "\n",
              "        const docLinkHtml = 'Like what you see? Visit the ' +\n",
              "          '<a target=\"_blank\" href=https://colab.research.google.com/notebooks/data_table.ipynb>data table notebook</a>'\n",
              "          + ' to learn more about interactive tables.';\n",
              "        element.innerHTML = '';\n",
              "        dataTable['output_type'] = 'display_data';\n",
              "        await google.colab.output.renderOutput(dataTable, element);\n",
              "        const docLink = document.createElement('div');\n",
              "        docLink.innerHTML = docLinkHtml;\n",
              "        element.appendChild(docLink);\n",
              "      }\n",
              "    </script>\n",
              "  </div>\n",
              "\n",
              "\n",
              "    <div id=\"df-d4766543-0bbe-4fdb-8737-0ed234863caa\">\n",
              "      <button class=\"colab-df-quickchart\" onclick=\"quickchart('df-d4766543-0bbe-4fdb-8737-0ed234863caa')\"\n",
              "                title=\"Suggest charts\"\n",
              "                style=\"display:none;\">\n",
              "\n",
              "<svg xmlns=\"http://www.w3.org/2000/svg\" height=\"24px\"viewBox=\"0 0 24 24\"\n",
              "     width=\"24px\">\n",
              "    <g>\n",
              "        <path d=\"M19 3H5c-1.1 0-2 .9-2 2v14c0 1.1.9 2 2 2h14c1.1 0 2-.9 2-2V5c0-1.1-.9-2-2-2zM9 17H7v-7h2v7zm4 0h-2V7h2v10zm4 0h-2v-4h2v4z\"/>\n",
              "    </g>\n",
              "</svg>\n",
              "      </button>\n",
              "\n",
              "<style>\n",
              "  .colab-df-quickchart {\n",
              "      --bg-color: #E8F0FE;\n",
              "      --fill-color: #1967D2;\n",
              "      --hover-bg-color: #E2EBFA;\n",
              "      --hover-fill-color: #174EA6;\n",
              "      --disabled-fill-color: #AAA;\n",
              "      --disabled-bg-color: #DDD;\n",
              "  }\n",
              "\n",
              "  [theme=dark] .colab-df-quickchart {\n",
              "      --bg-color: #3B4455;\n",
              "      --fill-color: #D2E3FC;\n",
              "      --hover-bg-color: #434B5C;\n",
              "      --hover-fill-color: #FFFFFF;\n",
              "      --disabled-bg-color: #3B4455;\n",
              "      --disabled-fill-color: #666;\n",
              "  }\n",
              "\n",
              "  .colab-df-quickchart {\n",
              "    background-color: var(--bg-color);\n",
              "    border: none;\n",
              "    border-radius: 50%;\n",
              "    cursor: pointer;\n",
              "    display: none;\n",
              "    fill: var(--fill-color);\n",
              "    height: 32px;\n",
              "    padding: 0;\n",
              "    width: 32px;\n",
              "  }\n",
              "\n",
              "  .colab-df-quickchart:hover {\n",
              "    background-color: var(--hover-bg-color);\n",
              "    box-shadow: 0 1px 2px rgba(60, 64, 67, 0.3), 0 1px 3px 1px rgba(60, 64, 67, 0.15);\n",
              "    fill: var(--button-hover-fill-color);\n",
              "  }\n",
              "\n",
              "  .colab-df-quickchart-complete:disabled,\n",
              "  .colab-df-quickchart-complete:disabled:hover {\n",
              "    background-color: var(--disabled-bg-color);\n",
              "    fill: var(--disabled-fill-color);\n",
              "    box-shadow: none;\n",
              "  }\n",
              "\n",
              "  .colab-df-spinner {\n",
              "    border: 2px solid var(--fill-color);\n",
              "    border-color: transparent;\n",
              "    border-bottom-color: var(--fill-color);\n",
              "    animation:\n",
              "      spin 1s steps(1) infinite;\n",
              "  }\n",
              "\n",
              "  @keyframes spin {\n",
              "    0% {\n",
              "      border-color: transparent;\n",
              "      border-bottom-color: var(--fill-color);\n",
              "      border-left-color: var(--fill-color);\n",
              "    }\n",
              "    20% {\n",
              "      border-color: transparent;\n",
              "      border-left-color: var(--fill-color);\n",
              "      border-top-color: var(--fill-color);\n",
              "    }\n",
              "    30% {\n",
              "      border-color: transparent;\n",
              "      border-left-color: var(--fill-color);\n",
              "      border-top-color: var(--fill-color);\n",
              "      border-right-color: var(--fill-color);\n",
              "    }\n",
              "    40% {\n",
              "      border-color: transparent;\n",
              "      border-right-color: var(--fill-color);\n",
              "      border-top-color: var(--fill-color);\n",
              "    }\n",
              "    60% {\n",
              "      border-color: transparent;\n",
              "      border-right-color: var(--fill-color);\n",
              "    }\n",
              "    80% {\n",
              "      border-color: transparent;\n",
              "      border-right-color: var(--fill-color);\n",
              "      border-bottom-color: var(--fill-color);\n",
              "    }\n",
              "    90% {\n",
              "      border-color: transparent;\n",
              "      border-bottom-color: var(--fill-color);\n",
              "    }\n",
              "  }\n",
              "</style>\n",
              "\n",
              "      <script>\n",
              "        async function quickchart(key) {\n",
              "          const quickchartButtonEl =\n",
              "            document.querySelector('#' + key + ' button');\n",
              "          quickchartButtonEl.disabled = true;  // To prevent multiple clicks.\n",
              "          quickchartButtonEl.classList.add('colab-df-spinner');\n",
              "          try {\n",
              "            const charts = await google.colab.kernel.invokeFunction(\n",
              "                'suggestCharts', [key], {});\n",
              "          } catch (error) {\n",
              "            console.error('Error during call to suggestCharts:', error);\n",
              "          }\n",
              "          quickchartButtonEl.classList.remove('colab-df-spinner');\n",
              "          quickchartButtonEl.classList.add('colab-df-quickchart-complete');\n",
              "        }\n",
              "        (() => {\n",
              "          let quickchartButtonEl =\n",
              "            document.querySelector('#df-d4766543-0bbe-4fdb-8737-0ed234863caa button');\n",
              "          quickchartButtonEl.style.display =\n",
              "            google.colab.kernel.accessAllowed ? 'block' : 'none';\n",
              "        })();\n",
              "      </script>\n",
              "    </div>\n",
              "\n",
              "  <div id=\"id_e1022479-8f88-4473-be76-58539269a7a5\">\n",
              "    <style>\n",
              "      .colab-df-generate {\n",
              "        background-color: #E8F0FE;\n",
              "        border: none;\n",
              "        border-radius: 50%;\n",
              "        cursor: pointer;\n",
              "        display: none;\n",
              "        fill: #1967D2;\n",
              "        height: 32px;\n",
              "        padding: 0 0 0 0;\n",
              "        width: 32px;\n",
              "      }\n",
              "\n",
              "      .colab-df-generate:hover {\n",
              "        background-color: #E2EBFA;\n",
              "        box-shadow: 0px 1px 2px rgba(60, 64, 67, 0.3), 0px 1px 3px 1px rgba(60, 64, 67, 0.15);\n",
              "        fill: #174EA6;\n",
              "      }\n",
              "\n",
              "      [theme=dark] .colab-df-generate {\n",
              "        background-color: #3B4455;\n",
              "        fill: #D2E3FC;\n",
              "      }\n",
              "\n",
              "      [theme=dark] .colab-df-generate:hover {\n",
              "        background-color: #434B5C;\n",
              "        box-shadow: 0px 1px 3px 1px rgba(0, 0, 0, 0.15);\n",
              "        filter: drop-shadow(0px 1px 2px rgba(0, 0, 0, 0.3));\n",
              "        fill: #FFFFFF;\n",
              "      }\n",
              "    </style>\n",
              "    <button class=\"colab-df-generate\" onclick=\"generateWithVariable('df')\"\n",
              "            title=\"Generate code using this dataframe.\"\n",
              "            style=\"display:none;\">\n",
              "\n",
              "  <svg xmlns=\"http://www.w3.org/2000/svg\" height=\"24px\"viewBox=\"0 0 24 24\"\n",
              "       width=\"24px\">\n",
              "    <path d=\"M7,19H8.4L18.45,9,17,7.55,7,17.6ZM5,21V16.75L18.45,3.32a2,2,0,0,1,2.83,0l1.4,1.43a1.91,1.91,0,0,1,.58,1.4,1.91,1.91,0,0,1-.58,1.4L9.25,21ZM18.45,9,17,7.55Zm-12,3A5.31,5.31,0,0,0,4.9,8.1,5.31,5.31,0,0,0,1,6.5,5.31,5.31,0,0,0,4.9,4.9,5.31,5.31,0,0,0,6.5,1,5.31,5.31,0,0,0,8.1,4.9,5.31,5.31,0,0,0,12,6.5,5.46,5.46,0,0,0,6.5,12Z\"/>\n",
              "  </svg>\n",
              "    </button>\n",
              "    <script>\n",
              "      (() => {\n",
              "      const buttonEl =\n",
              "        document.querySelector('#id_e1022479-8f88-4473-be76-58539269a7a5 button.colab-df-generate');\n",
              "      buttonEl.style.display =\n",
              "        google.colab.kernel.accessAllowed ? 'block' : 'none';\n",
              "\n",
              "      buttonEl.onclick = () => {\n",
              "        google.colab.notebook.generateWithVariable('df');\n",
              "      }\n",
              "      })();\n",
              "    </script>\n",
              "  </div>\n",
              "\n",
              "    </div>\n",
              "  </div>\n"
            ],
            "application/vnd.google.colaboratory.intrinsic+json": {
              "type": "dataframe",
              "variable_name": "df",
              "summary": "{\n  \"name\": \"df\",\n  \"rows\": 4,\n  \"fields\": [\n    {\n      \"column\": \"text\",\n      \"properties\": {\n        \"dtype\": \"string\",\n        \"num_unique_values\": 4,\n        \"samples\": [\n          \"dswithanuj watch dswithanuj\",\n          \"dswithanuj write comment\",\n          \"people watch dswithanuj\"\n        ],\n        \"semantic_type\": \"\",\n        \"description\": \"\"\n      }\n    },\n    {\n      \"column\": \"output\",\n      \"properties\": {\n        \"dtype\": \"number\",\n        \"std\": 0,\n        \"min\": 0,\n        \"max\": 1,\n        \"num_unique_values\": 2,\n        \"samples\": [\n          0,\n          1\n        ],\n        \"semantic_type\": \"\",\n        \"description\": \"\"\n      }\n    }\n  ]\n}"
            }
          },
          "metadata": {},
          "execution_count": 7
        }
      ]
    },
    {
      "cell_type": "code",
      "source": [
        "from sklearn.feature_extraction.text import CountVectorizer\n",
        "cv = CountVectorizer()"
      ],
      "metadata": {
        "id": "kFs2OtzOGJD8"
      },
      "execution_count": 8,
      "outputs": []
    },
    {
      "cell_type": "code",
      "source": [
        "bow = cv.fit_transform(df['text'])"
      ],
      "metadata": {
        "id": "oI_BaosQGI-N"
      },
      "execution_count": 12,
      "outputs": []
    },
    {
      "cell_type": "code",
      "source": [
        "print(cv.vocabulary_)"
      ],
      "metadata": {
        "colab": {
          "base_uri": "https://localhost:8080/"
        },
        "id": "zqDvTPCXKFRV",
        "outputId": "ba83082e-e74b-4fca-a092-3647dbe49ac2"
      },
      "execution_count": 14,
      "outputs": [
        {
          "output_type": "stream",
          "name": "stdout",
          "text": [
            "{'people': 2, 'watch': 3, 'dswithanuj': 1, 'write': 4, 'comment': 0}\n"
          ]
        }
      ]
    },
    {
      "cell_type": "code",
      "source": [
        "bow.toarray() #this vector you can pass to the model"
      ],
      "metadata": {
        "colab": {
          "base_uri": "https://localhost:8080/"
        },
        "id": "6_qLoSeHGI7m",
        "outputId": "11b5399d-52cf-4bff-cb29-2baae5a96134"
      },
      "execution_count": 10,
      "outputs": [
        {
          "output_type": "execute_result",
          "data": {
            "text/plain": [
              "array([[0, 1, 1, 1, 0],\n",
              "       [0, 2, 0, 1, 0],\n",
              "       [1, 0, 1, 0, 1],\n",
              "       [1, 1, 0, 0, 1]])"
            ]
          },
          "metadata": {},
          "execution_count": 10
        }
      ]
    },
    {
      "cell_type": "markdown",
      "source": [],
      "metadata": {
        "id": "t1GX9on2Jxqo"
      }
    },
    {
      "cell_type": "code",
      "source": [
        "print(bow[0].toarray())\n",
        "print(bow[1].toarray())\n",
        "print(bow[2].toarray())"
      ],
      "metadata": {
        "colab": {
          "base_uri": "https://localhost:8080/"
        },
        "id": "zMcLXhGdGI4u",
        "outputId": "ffc7cc59-73c4-46f2-bd42-a746cc856e6b"
      },
      "execution_count": 11,
      "outputs": [
        {
          "output_type": "stream",
          "name": "stdout",
          "text": [
            "[[0 1 1 1 0]]\n",
            "[[0 2 0 1 0]]\n",
            "[[1 0 1 0 1]]\n"
          ]
        }
      ]
    },
    {
      "cell_type": "code",
      "source": [
        "# new data\n",
        "cv.transform(['Bappy watch dswithanuj']).toarray()"
      ],
      "metadata": {
        "colab": {
          "base_uri": "https://localhost:8080/"
        },
        "id": "gTJA0-bgGI2H",
        "outputId": "ddc39a29-de1e-4b89-ca9c-ffb98cc3efaf"
      },
      "execution_count": 18,
      "outputs": [
        {
          "output_type": "execute_result",
          "data": {
            "text/plain": [
              "array([[0, 1, 0, 1, 0]])"
            ]
          },
          "metadata": {},
          "execution_count": 18
        }
      ]
    },
    {
      "cell_type": "code",
      "source": [
        "print(cv.vocabulary_)"
      ],
      "metadata": {
        "colab": {
          "base_uri": "https://localhost:8080/"
        },
        "id": "MbofFD-PKbTu",
        "outputId": "339ef9ae-28ce-4ac6-c532-2ae07de9f6fc"
      },
      "execution_count": 17,
      "outputs": [
        {
          "output_type": "stream",
          "name": "stdout",
          "text": [
            "{'people': 2, 'watch': 3, 'dswithanuj': 1, 'write': 4, 'comment': 0}\n"
          ]
        }
      ]
    },
    {
      "cell_type": "code",
      "source": [
        "X = bow.toarray() #input\n",
        "y = df['output'] #output"
      ],
      "metadata": {
        "id": "QWg0_zjNGIzg"
      },
      "execution_count": 19,
      "outputs": []
    },
    {
      "cell_type": "code",
      "source": [
        "print(X)\n",
        "print(y)"
      ],
      "metadata": {
        "colab": {
          "base_uri": "https://localhost:8080/"
        },
        "id": "k_ApIx_LGIwq",
        "outputId": "dd063819-a37f-48d8-ca83-21da9e00605d"
      },
      "execution_count": 21,
      "outputs": [
        {
          "output_type": "stream",
          "name": "stdout",
          "text": [
            "[[0 1 1 1 0]\n",
            " [0 2 0 1 0]\n",
            " [1 0 1 0 1]\n",
            " [1 1 0 0 1]]\n",
            "0    1\n",
            "1    1\n",
            "2    0\n",
            "3    0\n",
            "Name: output, dtype: int64\n"
          ]
        }
      ]
    },
    {
      "cell_type": "markdown",
      "source": [
        "# N-grams"
      ],
      "metadata": {
        "id": "r_Az6sSwLBZe"
      }
    },
    {
      "cell_type": "markdown",
      "source": [
        "### N-gram is also the same technique but here we define the\n",
        "### N-gram_range = which specify the pair of words as one token.\n",
        "### Like N-gram_range = 2, then people watch will together coount as 1 token now, okk"
      ],
      "metadata": {
        "id": "nkMdOxLhLQpD"
      }
    },
    {
      "cell_type": "code",
      "source": [
        "df = pd.DataFrame({\"text\":[\"people watch dswithanuj\",\n",
        "                         \"dswithanuj watch dswithanuj\",\n",
        "                         \"people write comment\",\n",
        "                          \"dswithanuj write comment\"],\"output\":[1,1,0,0]})\n",
        "\n",
        "df"
      ],
      "metadata": {
        "colab": {
          "base_uri": "https://localhost:8080/",
          "height": 175
        },
        "id": "3A6ndNvUGIty",
        "outputId": "26f9b0a3-6954-4cad-8d63-317e9db6939d"
      },
      "execution_count": 22,
      "outputs": [
        {
          "output_type": "execute_result",
          "data": {
            "text/plain": [
              "                          text  output\n",
              "0      people watch dswithanuj       1\n",
              "1  dswithanuj watch dswithanuj       1\n",
              "2         people write comment       0\n",
              "3     dswithanuj write comment       0"
            ],
            "text/html": [
              "\n",
              "  <div id=\"df-4ec562f3-18d8-4f6e-bc1a-16f8537e9988\" class=\"colab-df-container\">\n",
              "    <div>\n",
              "<style scoped>\n",
              "    .dataframe tbody tr th:only-of-type {\n",
              "        vertical-align: middle;\n",
              "    }\n",
              "\n",
              "    .dataframe tbody tr th {\n",
              "        vertical-align: top;\n",
              "    }\n",
              "\n",
              "    .dataframe thead th {\n",
              "        text-align: right;\n",
              "    }\n",
              "</style>\n",
              "<table border=\"1\" class=\"dataframe\">\n",
              "  <thead>\n",
              "    <tr style=\"text-align: right;\">\n",
              "      <th></th>\n",
              "      <th>text</th>\n",
              "      <th>output</th>\n",
              "    </tr>\n",
              "  </thead>\n",
              "  <tbody>\n",
              "    <tr>\n",
              "      <th>0</th>\n",
              "      <td>people watch dswithanuj</td>\n",
              "      <td>1</td>\n",
              "    </tr>\n",
              "    <tr>\n",
              "      <th>1</th>\n",
              "      <td>dswithanuj watch dswithanuj</td>\n",
              "      <td>1</td>\n",
              "    </tr>\n",
              "    <tr>\n",
              "      <th>2</th>\n",
              "      <td>people write comment</td>\n",
              "      <td>0</td>\n",
              "    </tr>\n",
              "    <tr>\n",
              "      <th>3</th>\n",
              "      <td>dswithanuj write comment</td>\n",
              "      <td>0</td>\n",
              "    </tr>\n",
              "  </tbody>\n",
              "</table>\n",
              "</div>\n",
              "    <div class=\"colab-df-buttons\">\n",
              "\n",
              "  <div class=\"colab-df-container\">\n",
              "    <button class=\"colab-df-convert\" onclick=\"convertToInteractive('df-4ec562f3-18d8-4f6e-bc1a-16f8537e9988')\"\n",
              "            title=\"Convert this dataframe to an interactive table.\"\n",
              "            style=\"display:none;\">\n",
              "\n",
              "  <svg xmlns=\"http://www.w3.org/2000/svg\" height=\"24px\" viewBox=\"0 -960 960 960\">\n",
              "    <path d=\"M120-120v-720h720v720H120Zm60-500h600v-160H180v160Zm220 220h160v-160H400v160Zm0 220h160v-160H400v160ZM180-400h160v-160H180v160Zm440 0h160v-160H620v160ZM180-180h160v-160H180v160Zm440 0h160v-160H620v160Z\"/>\n",
              "  </svg>\n",
              "    </button>\n",
              "\n",
              "  <style>\n",
              "    .colab-df-container {\n",
              "      display:flex;\n",
              "      gap: 12px;\n",
              "    }\n",
              "\n",
              "    .colab-df-convert {\n",
              "      background-color: #E8F0FE;\n",
              "      border: none;\n",
              "      border-radius: 50%;\n",
              "      cursor: pointer;\n",
              "      display: none;\n",
              "      fill: #1967D2;\n",
              "      height: 32px;\n",
              "      padding: 0 0 0 0;\n",
              "      width: 32px;\n",
              "    }\n",
              "\n",
              "    .colab-df-convert:hover {\n",
              "      background-color: #E2EBFA;\n",
              "      box-shadow: 0px 1px 2px rgba(60, 64, 67, 0.3), 0px 1px 3px 1px rgba(60, 64, 67, 0.15);\n",
              "      fill: #174EA6;\n",
              "    }\n",
              "\n",
              "    .colab-df-buttons div {\n",
              "      margin-bottom: 4px;\n",
              "    }\n",
              "\n",
              "    [theme=dark] .colab-df-convert {\n",
              "      background-color: #3B4455;\n",
              "      fill: #D2E3FC;\n",
              "    }\n",
              "\n",
              "    [theme=dark] .colab-df-convert:hover {\n",
              "      background-color: #434B5C;\n",
              "      box-shadow: 0px 1px 3px 1px rgba(0, 0, 0, 0.15);\n",
              "      filter: drop-shadow(0px 1px 2px rgba(0, 0, 0, 0.3));\n",
              "      fill: #FFFFFF;\n",
              "    }\n",
              "  </style>\n",
              "\n",
              "    <script>\n",
              "      const buttonEl =\n",
              "        document.querySelector('#df-4ec562f3-18d8-4f6e-bc1a-16f8537e9988 button.colab-df-convert');\n",
              "      buttonEl.style.display =\n",
              "        google.colab.kernel.accessAllowed ? 'block' : 'none';\n",
              "\n",
              "      async function convertToInteractive(key) {\n",
              "        const element = document.querySelector('#df-4ec562f3-18d8-4f6e-bc1a-16f8537e9988');\n",
              "        const dataTable =\n",
              "          await google.colab.kernel.invokeFunction('convertToInteractive',\n",
              "                                                    [key], {});\n",
              "        if (!dataTable) return;\n",
              "\n",
              "        const docLinkHtml = 'Like what you see? Visit the ' +\n",
              "          '<a target=\"_blank\" href=https://colab.research.google.com/notebooks/data_table.ipynb>data table notebook</a>'\n",
              "          + ' to learn more about interactive tables.';\n",
              "        element.innerHTML = '';\n",
              "        dataTable['output_type'] = 'display_data';\n",
              "        await google.colab.output.renderOutput(dataTable, element);\n",
              "        const docLink = document.createElement('div');\n",
              "        docLink.innerHTML = docLinkHtml;\n",
              "        element.appendChild(docLink);\n",
              "      }\n",
              "    </script>\n",
              "  </div>\n",
              "\n",
              "\n",
              "    <div id=\"df-52f499ae-7d72-40f4-aa26-b8db1f6d9eef\">\n",
              "      <button class=\"colab-df-quickchart\" onclick=\"quickchart('df-52f499ae-7d72-40f4-aa26-b8db1f6d9eef')\"\n",
              "                title=\"Suggest charts\"\n",
              "                style=\"display:none;\">\n",
              "\n",
              "<svg xmlns=\"http://www.w3.org/2000/svg\" height=\"24px\"viewBox=\"0 0 24 24\"\n",
              "     width=\"24px\">\n",
              "    <g>\n",
              "        <path d=\"M19 3H5c-1.1 0-2 .9-2 2v14c0 1.1.9 2 2 2h14c1.1 0 2-.9 2-2V5c0-1.1-.9-2-2-2zM9 17H7v-7h2v7zm4 0h-2V7h2v10zm4 0h-2v-4h2v4z\"/>\n",
              "    </g>\n",
              "</svg>\n",
              "      </button>\n",
              "\n",
              "<style>\n",
              "  .colab-df-quickchart {\n",
              "      --bg-color: #E8F0FE;\n",
              "      --fill-color: #1967D2;\n",
              "      --hover-bg-color: #E2EBFA;\n",
              "      --hover-fill-color: #174EA6;\n",
              "      --disabled-fill-color: #AAA;\n",
              "      --disabled-bg-color: #DDD;\n",
              "  }\n",
              "\n",
              "  [theme=dark] .colab-df-quickchart {\n",
              "      --bg-color: #3B4455;\n",
              "      --fill-color: #D2E3FC;\n",
              "      --hover-bg-color: #434B5C;\n",
              "      --hover-fill-color: #FFFFFF;\n",
              "      --disabled-bg-color: #3B4455;\n",
              "      --disabled-fill-color: #666;\n",
              "  }\n",
              "\n",
              "  .colab-df-quickchart {\n",
              "    background-color: var(--bg-color);\n",
              "    border: none;\n",
              "    border-radius: 50%;\n",
              "    cursor: pointer;\n",
              "    display: none;\n",
              "    fill: var(--fill-color);\n",
              "    height: 32px;\n",
              "    padding: 0;\n",
              "    width: 32px;\n",
              "  }\n",
              "\n",
              "  .colab-df-quickchart:hover {\n",
              "    background-color: var(--hover-bg-color);\n",
              "    box-shadow: 0 1px 2px rgba(60, 64, 67, 0.3), 0 1px 3px 1px rgba(60, 64, 67, 0.15);\n",
              "    fill: var(--button-hover-fill-color);\n",
              "  }\n",
              "\n",
              "  .colab-df-quickchart-complete:disabled,\n",
              "  .colab-df-quickchart-complete:disabled:hover {\n",
              "    background-color: var(--disabled-bg-color);\n",
              "    fill: var(--disabled-fill-color);\n",
              "    box-shadow: none;\n",
              "  }\n",
              "\n",
              "  .colab-df-spinner {\n",
              "    border: 2px solid var(--fill-color);\n",
              "    border-color: transparent;\n",
              "    border-bottom-color: var(--fill-color);\n",
              "    animation:\n",
              "      spin 1s steps(1) infinite;\n",
              "  }\n",
              "\n",
              "  @keyframes spin {\n",
              "    0% {\n",
              "      border-color: transparent;\n",
              "      border-bottom-color: var(--fill-color);\n",
              "      border-left-color: var(--fill-color);\n",
              "    }\n",
              "    20% {\n",
              "      border-color: transparent;\n",
              "      border-left-color: var(--fill-color);\n",
              "      border-top-color: var(--fill-color);\n",
              "    }\n",
              "    30% {\n",
              "      border-color: transparent;\n",
              "      border-left-color: var(--fill-color);\n",
              "      border-top-color: var(--fill-color);\n",
              "      border-right-color: var(--fill-color);\n",
              "    }\n",
              "    40% {\n",
              "      border-color: transparent;\n",
              "      border-right-color: var(--fill-color);\n",
              "      border-top-color: var(--fill-color);\n",
              "    }\n",
              "    60% {\n",
              "      border-color: transparent;\n",
              "      border-right-color: var(--fill-color);\n",
              "    }\n",
              "    80% {\n",
              "      border-color: transparent;\n",
              "      border-right-color: var(--fill-color);\n",
              "      border-bottom-color: var(--fill-color);\n",
              "    }\n",
              "    90% {\n",
              "      border-color: transparent;\n",
              "      border-bottom-color: var(--fill-color);\n",
              "    }\n",
              "  }\n",
              "</style>\n",
              "\n",
              "      <script>\n",
              "        async function quickchart(key) {\n",
              "          const quickchartButtonEl =\n",
              "            document.querySelector('#' + key + ' button');\n",
              "          quickchartButtonEl.disabled = true;  // To prevent multiple clicks.\n",
              "          quickchartButtonEl.classList.add('colab-df-spinner');\n",
              "          try {\n",
              "            const charts = await google.colab.kernel.invokeFunction(\n",
              "                'suggestCharts', [key], {});\n",
              "          } catch (error) {\n",
              "            console.error('Error during call to suggestCharts:', error);\n",
              "          }\n",
              "          quickchartButtonEl.classList.remove('colab-df-spinner');\n",
              "          quickchartButtonEl.classList.add('colab-df-quickchart-complete');\n",
              "        }\n",
              "        (() => {\n",
              "          let quickchartButtonEl =\n",
              "            document.querySelector('#df-52f499ae-7d72-40f4-aa26-b8db1f6d9eef button');\n",
              "          quickchartButtonEl.style.display =\n",
              "            google.colab.kernel.accessAllowed ? 'block' : 'none';\n",
              "        })();\n",
              "      </script>\n",
              "    </div>\n",
              "\n",
              "  <div id=\"id_72799f31-9d8c-417d-bc3a-c797978bb5c4\">\n",
              "    <style>\n",
              "      .colab-df-generate {\n",
              "        background-color: #E8F0FE;\n",
              "        border: none;\n",
              "        border-radius: 50%;\n",
              "        cursor: pointer;\n",
              "        display: none;\n",
              "        fill: #1967D2;\n",
              "        height: 32px;\n",
              "        padding: 0 0 0 0;\n",
              "        width: 32px;\n",
              "      }\n",
              "\n",
              "      .colab-df-generate:hover {\n",
              "        background-color: #E2EBFA;\n",
              "        box-shadow: 0px 1px 2px rgba(60, 64, 67, 0.3), 0px 1px 3px 1px rgba(60, 64, 67, 0.15);\n",
              "        fill: #174EA6;\n",
              "      }\n",
              "\n",
              "      [theme=dark] .colab-df-generate {\n",
              "        background-color: #3B4455;\n",
              "        fill: #D2E3FC;\n",
              "      }\n",
              "\n",
              "      [theme=dark] .colab-df-generate:hover {\n",
              "        background-color: #434B5C;\n",
              "        box-shadow: 0px 1px 3px 1px rgba(0, 0, 0, 0.15);\n",
              "        filter: drop-shadow(0px 1px 2px rgba(0, 0, 0, 0.3));\n",
              "        fill: #FFFFFF;\n",
              "      }\n",
              "    </style>\n",
              "    <button class=\"colab-df-generate\" onclick=\"generateWithVariable('df')\"\n",
              "            title=\"Generate code using this dataframe.\"\n",
              "            style=\"display:none;\">\n",
              "\n",
              "  <svg xmlns=\"http://www.w3.org/2000/svg\" height=\"24px\"viewBox=\"0 0 24 24\"\n",
              "       width=\"24px\">\n",
              "    <path d=\"M7,19H8.4L18.45,9,17,7.55,7,17.6ZM5,21V16.75L18.45,3.32a2,2,0,0,1,2.83,0l1.4,1.43a1.91,1.91,0,0,1,.58,1.4,1.91,1.91,0,0,1-.58,1.4L9.25,21ZM18.45,9,17,7.55Zm-12,3A5.31,5.31,0,0,0,4.9,8.1,5.31,5.31,0,0,0,1,6.5,5.31,5.31,0,0,0,4.9,4.9,5.31,5.31,0,0,0,6.5,1,5.31,5.31,0,0,0,8.1,4.9,5.31,5.31,0,0,0,12,6.5,5.46,5.46,0,0,0,6.5,12Z\"/>\n",
              "  </svg>\n",
              "    </button>\n",
              "    <script>\n",
              "      (() => {\n",
              "      const buttonEl =\n",
              "        document.querySelector('#id_72799f31-9d8c-417d-bc3a-c797978bb5c4 button.colab-df-generate');\n",
              "      buttonEl.style.display =\n",
              "        google.colab.kernel.accessAllowed ? 'block' : 'none';\n",
              "\n",
              "      buttonEl.onclick = () => {\n",
              "        google.colab.notebook.generateWithVariable('df');\n",
              "      }\n",
              "      })();\n",
              "    </script>\n",
              "  </div>\n",
              "\n",
              "    </div>\n",
              "  </div>\n"
            ],
            "application/vnd.google.colaboratory.intrinsic+json": {
              "type": "dataframe",
              "variable_name": "df",
              "summary": "{\n  \"name\": \"df\",\n  \"rows\": 4,\n  \"fields\": [\n    {\n      \"column\": \"text\",\n      \"properties\": {\n        \"dtype\": \"string\",\n        \"num_unique_values\": 4,\n        \"samples\": [\n          \"dswithanuj watch dswithanuj\",\n          \"dswithanuj write comment\",\n          \"people watch dswithanuj\"\n        ],\n        \"semantic_type\": \"\",\n        \"description\": \"\"\n      }\n    },\n    {\n      \"column\": \"output\",\n      \"properties\": {\n        \"dtype\": \"number\",\n        \"std\": 0,\n        \"min\": 0,\n        \"max\": 1,\n        \"num_unique_values\": 2,\n        \"samples\": [\n          0,\n          1\n        ],\n        \"semantic_type\": \"\",\n        \"description\": \"\"\n      }\n    }\n  ]\n}"
            }
          },
          "metadata": {},
          "execution_count": 22
        }
      ]
    },
    {
      "cell_type": "code",
      "source": [
        "# BI grams\n",
        "from sklearn.feature_extraction.text import CountVectorizer\n",
        "cv = CountVectorizer(ngram_range=(2,2))"
      ],
      "metadata": {
        "id": "luoQmhwdGIq7"
      },
      "execution_count": 23,
      "outputs": []
    },
    {
      "cell_type": "code",
      "source": [
        "bow = cv.fit_transform(df['text'])\n"
      ],
      "metadata": {
        "id": "E-CfojRNGIoV"
      },
      "execution_count": 24,
      "outputs": []
    },
    {
      "cell_type": "code",
      "source": [
        "print(cv.vocabulary_)\n"
      ],
      "metadata": {
        "colab": {
          "base_uri": "https://localhost:8080/"
        },
        "id": "43dvA7wrGIlx",
        "outputId": "bee7525d-064e-4e66-f86d-9b3c22a9556d"
      },
      "execution_count": 25,
      "outputs": [
        {
          "output_type": "stream",
          "name": "stdout",
          "text": [
            "{'people watch': 2, 'watch dswithanuj': 4, 'dswithanuj watch': 0, 'people write': 3, 'write comment': 5, 'dswithanuj write': 1}\n"
          ]
        }
      ]
    },
    {
      "cell_type": "code",
      "source": [
        "print(bow[0].toarray())\n",
        "print(bow[1].toarray())\n",
        "print(bow[2].toarray())\n",
        "print(bow[3].toarray())"
      ],
      "metadata": {
        "colab": {
          "base_uri": "https://localhost:8080/"
        },
        "id": "9cRrB9uCGIi2",
        "outputId": "03a12a5e-a42b-46d8-a1e2-2593c19cfd9a"
      },
      "execution_count": 27,
      "outputs": [
        {
          "output_type": "stream",
          "name": "stdout",
          "text": [
            "[[0 0 1 0 1 0]]\n",
            "[[1 0 0 0 1 0]]\n",
            "[[0 0 0 1 0 1]]\n",
            "[[0 1 0 0 0 1]]\n"
          ]
        }
      ]
    },
    {
      "cell_type": "code",
      "source": [
        "from sklearn.feature_extraction.text import CountVectorizer\n",
        "cv = CountVectorizer(ngram_range=(3,3))"
      ],
      "metadata": {
        "id": "_G255hYkGIgP"
      },
      "execution_count": 28,
      "outputs": []
    },
    {
      "cell_type": "code",
      "source": [
        "bow = cv.fit_transform(df['text'])\n"
      ],
      "metadata": {
        "id": "JKTyG9l2GIdZ"
      },
      "execution_count": 29,
      "outputs": []
    },
    {
      "cell_type": "code",
      "source": [
        "print(bow[0].toarray())\n",
        "print(bow[1].toarray())\n",
        "print(bow[2].toarray())"
      ],
      "metadata": {
        "colab": {
          "base_uri": "https://localhost:8080/"
        },
        "id": "zeR7A6lsGIah",
        "outputId": "8024ae4e-e776-435e-a828-ce5950e6594a"
      },
      "execution_count": 30,
      "outputs": [
        {
          "output_type": "stream",
          "name": "stdout",
          "text": [
            "[[0 0 1 0]]\n",
            "[[1 0 0 0]]\n",
            "[[0 0 0 1]]\n"
          ]
        }
      ]
    },
    {
      "cell_type": "markdown",
      "source": [
        "# TF-IDF (Term frequency- Inverse document frequency)"
      ],
      "metadata": {
        "id": "fmBzGwQPNf6q"
      }
    },
    {
      "cell_type": "markdown",
      "source": [
        "#### It is not recommended to use Tfidf bcz it doesnot show any semantic meaning or relationship between the data.\n",
        "#### but it has one advantage as in tfidf there are floating numbers so there is no 0 here."
      ],
      "metadata": {
        "id": "SlF4AlXSPQSR"
      }
    },
    {
      "cell_type": "markdown",
      "source": [
        "![tfidf.png](data:image/png;base64,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)"
      ],
      "metadata": {
        "id": "jZE6Z2dJOXEG"
      }
    },
    {
      "cell_type": "code",
      "source": [
        "df = pd.DataFrame({\"text\":[\"people watch dswithanuj\",\n",
        "                         \"dswithanuj watch dswithanuj\",\n",
        "                         \"people write comment\",\n",
        "                          \"dswithanuj write comment\"],\"output\":[1,1,0,0]})\n",
        "\n",
        "df"
      ],
      "metadata": {
        "colab": {
          "base_uri": "https://localhost:8080/",
          "height": 175
        },
        "id": "kHJq-zIZNizS",
        "outputId": "bc0d34db-e30e-48da-e821-807d5811552c"
      },
      "execution_count": 31,
      "outputs": [
        {
          "output_type": "execute_result",
          "data": {
            "text/plain": [
              "                          text  output\n",
              "0      people watch dswithanuj       1\n",
              "1  dswithanuj watch dswithanuj       1\n",
              "2         people write comment       0\n",
              "3     dswithanuj write comment       0"
            ],
            "text/html": [
              "\n",
              "  <div id=\"df-61cffc03-5123-4dc5-9033-c4e87f87a77b\" class=\"colab-df-container\">\n",
              "    <div>\n",
              "<style scoped>\n",
              "    .dataframe tbody tr th:only-of-type {\n",
              "        vertical-align: middle;\n",
              "    }\n",
              "\n",
              "    .dataframe tbody tr th {\n",
              "        vertical-align: top;\n",
              "    }\n",
              "\n",
              "    .dataframe thead th {\n",
              "        text-align: right;\n",
              "    }\n",
              "</style>\n",
              "<table border=\"1\" class=\"dataframe\">\n",
              "  <thead>\n",
              "    <tr style=\"text-align: right;\">\n",
              "      <th></th>\n",
              "      <th>text</th>\n",
              "      <th>output</th>\n",
              "    </tr>\n",
              "  </thead>\n",
              "  <tbody>\n",
              "    <tr>\n",
              "      <th>0</th>\n",
              "      <td>people watch dswithanuj</td>\n",
              "      <td>1</td>\n",
              "    </tr>\n",
              "    <tr>\n",
              "      <th>1</th>\n",
              "      <td>dswithanuj watch dswithanuj</td>\n",
              "      <td>1</td>\n",
              "    </tr>\n",
              "    <tr>\n",
              "      <th>2</th>\n",
              "      <td>people write comment</td>\n",
              "      <td>0</td>\n",
              "    </tr>\n",
              "    <tr>\n",
              "      <th>3</th>\n",
              "      <td>dswithanuj write comment</td>\n",
              "      <td>0</td>\n",
              "    </tr>\n",
              "  </tbody>\n",
              "</table>\n",
              "</div>\n",
              "    <div class=\"colab-df-buttons\">\n",
              "\n",
              "  <div class=\"colab-df-container\">\n",
              "    <button class=\"colab-df-convert\" onclick=\"convertToInteractive('df-61cffc03-5123-4dc5-9033-c4e87f87a77b')\"\n",
              "            title=\"Convert this dataframe to an interactive table.\"\n",
              "            style=\"display:none;\">\n",
              "\n",
              "  <svg xmlns=\"http://www.w3.org/2000/svg\" height=\"24px\" viewBox=\"0 -960 960 960\">\n",
              "    <path d=\"M120-120v-720h720v720H120Zm60-500h600v-160H180v160Zm220 220h160v-160H400v160Zm0 220h160v-160H400v160ZM180-400h160v-160H180v160Zm440 0h160v-160H620v160ZM180-180h160v-160H180v160Zm440 0h160v-160H620v160Z\"/>\n",
              "  </svg>\n",
              "    </button>\n",
              "\n",
              "  <style>\n",
              "    .colab-df-container {\n",
              "      display:flex;\n",
              "      gap: 12px;\n",
              "    }\n",
              "\n",
              "    .colab-df-convert {\n",
              "      background-color: #E8F0FE;\n",
              "      border: none;\n",
              "      border-radius: 50%;\n",
              "      cursor: pointer;\n",
              "      display: none;\n",
              "      fill: #1967D2;\n",
              "      height: 32px;\n",
              "      padding: 0 0 0 0;\n",
              "      width: 32px;\n",
              "    }\n",
              "\n",
              "    .colab-df-convert:hover {\n",
              "      background-color: #E2EBFA;\n",
              "      box-shadow: 0px 1px 2px rgba(60, 64, 67, 0.3), 0px 1px 3px 1px rgba(60, 64, 67, 0.15);\n",
              "      fill: #174EA6;\n",
              "    }\n",
              "\n",
              "    .colab-df-buttons div {\n",
              "      margin-bottom: 4px;\n",
              "    }\n",
              "\n",
              "    [theme=dark] .colab-df-convert {\n",
              "      background-color: #3B4455;\n",
              "      fill: #D2E3FC;\n",
              "    }\n",
              "\n",
              "    [theme=dark] .colab-df-convert:hover {\n",
              "      background-color: #434B5C;\n",
              "      box-shadow: 0px 1px 3px 1px rgba(0, 0, 0, 0.15);\n",
              "      filter: drop-shadow(0px 1px 2px rgba(0, 0, 0, 0.3));\n",
              "      fill: #FFFFFF;\n",
              "    }\n",
              "  </style>\n",
              "\n",
              "    <script>\n",
              "      const buttonEl =\n",
              "        document.querySelector('#df-61cffc03-5123-4dc5-9033-c4e87f87a77b button.colab-df-convert');\n",
              "      buttonEl.style.display =\n",
              "        google.colab.kernel.accessAllowed ? 'block' : 'none';\n",
              "\n",
              "      async function convertToInteractive(key) {\n",
              "        const element = document.querySelector('#df-61cffc03-5123-4dc5-9033-c4e87f87a77b');\n",
              "        const dataTable =\n",
              "          await google.colab.kernel.invokeFunction('convertToInteractive',\n",
              "                                                    [key], {});\n",
              "        if (!dataTable) return;\n",
              "\n",
              "        const docLinkHtml = 'Like what you see? Visit the ' +\n",
              "          '<a target=\"_blank\" href=https://colab.research.google.com/notebooks/data_table.ipynb>data table notebook</a>'\n",
              "          + ' to learn more about interactive tables.';\n",
              "        element.innerHTML = '';\n",
              "        dataTable['output_type'] = 'display_data';\n",
              "        await google.colab.output.renderOutput(dataTable, element);\n",
              "        const docLink = document.createElement('div');\n",
              "        docLink.innerHTML = docLinkHtml;\n",
              "        element.appendChild(docLink);\n",
              "      }\n",
              "    </script>\n",
              "  </div>\n",
              "\n",
              "\n",
              "    <div id=\"df-a4f20359-32af-48d2-bcbf-6c26787594a3\">\n",
              "      <button class=\"colab-df-quickchart\" onclick=\"quickchart('df-a4f20359-32af-48d2-bcbf-6c26787594a3')\"\n",
              "                title=\"Suggest charts\"\n",
              "                style=\"display:none;\">\n",
              "\n",
              "<svg xmlns=\"http://www.w3.org/2000/svg\" height=\"24px\"viewBox=\"0 0 24 24\"\n",
              "     width=\"24px\">\n",
              "    <g>\n",
              "        <path d=\"M19 3H5c-1.1 0-2 .9-2 2v14c0 1.1.9 2 2 2h14c1.1 0 2-.9 2-2V5c0-1.1-.9-2-2-2zM9 17H7v-7h2v7zm4 0h-2V7h2v10zm4 0h-2v-4h2v4z\"/>\n",
              "    </g>\n",
              "</svg>\n",
              "      </button>\n",
              "\n",
              "<style>\n",
              "  .colab-df-quickchart {\n",
              "      --bg-color: #E8F0FE;\n",
              "      --fill-color: #1967D2;\n",
              "      --hover-bg-color: #E2EBFA;\n",
              "      --hover-fill-color: #174EA6;\n",
              "      --disabled-fill-color: #AAA;\n",
              "      --disabled-bg-color: #DDD;\n",
              "  }\n",
              "\n",
              "  [theme=dark] .colab-df-quickchart {\n",
              "      --bg-color: #3B4455;\n",
              "      --fill-color: #D2E3FC;\n",
              "      --hover-bg-color: #434B5C;\n",
              "      --hover-fill-color: #FFFFFF;\n",
              "      --disabled-bg-color: #3B4455;\n",
              "      --disabled-fill-color: #666;\n",
              "  }\n",
              "\n",
              "  .colab-df-quickchart {\n",
              "    background-color: var(--bg-color);\n",
              "    border: none;\n",
              "    border-radius: 50%;\n",
              "    cursor: pointer;\n",
              "    display: none;\n",
              "    fill: var(--fill-color);\n",
              "    height: 32px;\n",
              "    padding: 0;\n",
              "    width: 32px;\n",
              "  }\n",
              "\n",
              "  .colab-df-quickchart:hover {\n",
              "    background-color: var(--hover-bg-color);\n",
              "    box-shadow: 0 1px 2px rgba(60, 64, 67, 0.3), 0 1px 3px 1px rgba(60, 64, 67, 0.15);\n",
              "    fill: var(--button-hover-fill-color);\n",
              "  }\n",
              "\n",
              "  .colab-df-quickchart-complete:disabled,\n",
              "  .colab-df-quickchart-complete:disabled:hover {\n",
              "    background-color: var(--disabled-bg-color);\n",
              "    fill: var(--disabled-fill-color);\n",
              "    box-shadow: none;\n",
              "  }\n",
              "\n",
              "  .colab-df-spinner {\n",
              "    border: 2px solid var(--fill-color);\n",
              "    border-color: transparent;\n",
              "    border-bottom-color: var(--fill-color);\n",
              "    animation:\n",
              "      spin 1s steps(1) infinite;\n",
              "  }\n",
              "\n",
              "  @keyframes spin {\n",
              "    0% {\n",
              "      border-color: transparent;\n",
              "      border-bottom-color: var(--fill-color);\n",
              "      border-left-color: var(--fill-color);\n",
              "    }\n",
              "    20% {\n",
              "      border-color: transparent;\n",
              "      border-left-color: var(--fill-color);\n",
              "      border-top-color: var(--fill-color);\n",
              "    }\n",
              "    30% {\n",
              "      border-color: transparent;\n",
              "      border-left-color: var(--fill-color);\n",
              "      border-top-color: var(--fill-color);\n",
              "      border-right-color: var(--fill-color);\n",
              "    }\n",
              "    40% {\n",
              "      border-color: transparent;\n",
              "      border-right-color: var(--fill-color);\n",
              "      border-top-color: var(--fill-color);\n",
              "    }\n",
              "    60% {\n",
              "      border-color: transparent;\n",
              "      border-right-color: var(--fill-color);\n",
              "    }\n",
              "    80% {\n",
              "      border-color: transparent;\n",
              "      border-right-color: var(--fill-color);\n",
              "      border-bottom-color: var(--fill-color);\n",
              "    }\n",
              "    90% {\n",
              "      border-color: transparent;\n",
              "      border-bottom-color: var(--fill-color);\n",
              "    }\n",
              "  }\n",
              "</style>\n",
              "\n",
              "      <script>\n",
              "        async function quickchart(key) {\n",
              "          const quickchartButtonEl =\n",
              "            document.querySelector('#' + key + ' button');\n",
              "          quickchartButtonEl.disabled = true;  // To prevent multiple clicks.\n",
              "          quickchartButtonEl.classList.add('colab-df-spinner');\n",
              "          try {\n",
              "            const charts = await google.colab.kernel.invokeFunction(\n",
              "                'suggestCharts', [key], {});\n",
              "          } catch (error) {\n",
              "            console.error('Error during call to suggestCharts:', error);\n",
              "          }\n",
              "          quickchartButtonEl.classList.remove('colab-df-spinner');\n",
              "          quickchartButtonEl.classList.add('colab-df-quickchart-complete');\n",
              "        }\n",
              "        (() => {\n",
              "          let quickchartButtonEl =\n",
              "            document.querySelector('#df-a4f20359-32af-48d2-bcbf-6c26787594a3 button');\n",
              "          quickchartButtonEl.style.display =\n",
              "            google.colab.kernel.accessAllowed ? 'block' : 'none';\n",
              "        })();\n",
              "      </script>\n",
              "    </div>\n",
              "\n",
              "  <div id=\"id_00e4b58a-c2fa-4369-a929-1101dfbfb05d\">\n",
              "    <style>\n",
              "      .colab-df-generate {\n",
              "        background-color: #E8F0FE;\n",
              "        border: none;\n",
              "        border-radius: 50%;\n",
              "        cursor: pointer;\n",
              "        display: none;\n",
              "        fill: #1967D2;\n",
              "        height: 32px;\n",
              "        padding: 0 0 0 0;\n",
              "        width: 32px;\n",
              "      }\n",
              "\n",
              "      .colab-df-generate:hover {\n",
              "        background-color: #E2EBFA;\n",
              "        box-shadow: 0px 1px 2px rgba(60, 64, 67, 0.3), 0px 1px 3px 1px rgba(60, 64, 67, 0.15);\n",
              "        fill: #174EA6;\n",
              "      }\n",
              "\n",
              "      [theme=dark] .colab-df-generate {\n",
              "        background-color: #3B4455;\n",
              "        fill: #D2E3FC;\n",
              "      }\n",
              "\n",
              "      [theme=dark] .colab-df-generate:hover {\n",
              "        background-color: #434B5C;\n",
              "        box-shadow: 0px 1px 3px 1px rgba(0, 0, 0, 0.15);\n",
              "        filter: drop-shadow(0px 1px 2px rgba(0, 0, 0, 0.3));\n",
              "        fill: #FFFFFF;\n",
              "      }\n",
              "    </style>\n",
              "    <button class=\"colab-df-generate\" onclick=\"generateWithVariable('df')\"\n",
              "            title=\"Generate code using this dataframe.\"\n",
              "            style=\"display:none;\">\n",
              "\n",
              "  <svg xmlns=\"http://www.w3.org/2000/svg\" height=\"24px\"viewBox=\"0 0 24 24\"\n",
              "       width=\"24px\">\n",
              "    <path d=\"M7,19H8.4L18.45,9,17,7.55,7,17.6ZM5,21V16.75L18.45,3.32a2,2,0,0,1,2.83,0l1.4,1.43a1.91,1.91,0,0,1,.58,1.4,1.91,1.91,0,0,1-.58,1.4L9.25,21ZM18.45,9,17,7.55Zm-12,3A5.31,5.31,0,0,0,4.9,8.1,5.31,5.31,0,0,0,1,6.5,5.31,5.31,0,0,0,4.9,4.9,5.31,5.31,0,0,0,6.5,1,5.31,5.31,0,0,0,8.1,4.9,5.31,5.31,0,0,0,12,6.5,5.46,5.46,0,0,0,6.5,12Z\"/>\n",
              "  </svg>\n",
              "    </button>\n",
              "    <script>\n",
              "      (() => {\n",
              "      const buttonEl =\n",
              "        document.querySelector('#id_00e4b58a-c2fa-4369-a929-1101dfbfb05d button.colab-df-generate');\n",
              "      buttonEl.style.display =\n",
              "        google.colab.kernel.accessAllowed ? 'block' : 'none';\n",
              "\n",
              "      buttonEl.onclick = () => {\n",
              "        google.colab.notebook.generateWithVariable('df');\n",
              "      }\n",
              "      })();\n",
              "    </script>\n",
              "  </div>\n",
              "\n",
              "    </div>\n",
              "  </div>\n"
            ],
            "application/vnd.google.colaboratory.intrinsic+json": {
              "type": "dataframe",
              "variable_name": "df",
              "summary": "{\n  \"name\": \"df\",\n  \"rows\": 4,\n  \"fields\": [\n    {\n      \"column\": \"text\",\n      \"properties\": {\n        \"dtype\": \"string\",\n        \"num_unique_values\": 4,\n        \"samples\": [\n          \"dswithanuj watch dswithanuj\",\n          \"dswithanuj write comment\",\n          \"people watch dswithanuj\"\n        ],\n        \"semantic_type\": \"\",\n        \"description\": \"\"\n      }\n    },\n    {\n      \"column\": \"output\",\n      \"properties\": {\n        \"dtype\": \"number\",\n        \"std\": 0,\n        \"min\": 0,\n        \"max\": 1,\n        \"num_unique_values\": 2,\n        \"samples\": [\n          0,\n          1\n        ],\n        \"semantic_type\": \"\",\n        \"description\": \"\"\n      }\n    }\n  ]\n}"
            }
          },
          "metadata": {},
          "execution_count": 31
        }
      ]
    },
    {
      "cell_type": "code",
      "source": [
        "from sklearn.feature_extraction.text import TfidfVectorizer\n",
        "tfid= TfidfVectorizer()"
      ],
      "metadata": {
        "id": "naqVmGHMNiw9"
      },
      "execution_count": 32,
      "outputs": []
    },
    {
      "cell_type": "code",
      "source": [
        "arr = tfid.fit_transform(df['text']).toarray()"
      ],
      "metadata": {
        "id": "RoXRXPRANiul"
      },
      "execution_count": 33,
      "outputs": []
    },
    {
      "cell_type": "code",
      "source": [
        "arr"
      ],
      "metadata": {
        "colab": {
          "base_uri": "https://localhost:8080/"
        },
        "id": "m4SeXUP_NisT",
        "outputId": "70076bbe-df19-4984-f67e-3369bb9a9ec7"
      },
      "execution_count": 34,
      "outputs": [
        {
          "output_type": "execute_result",
          "data": {
            "text/plain": [
              "array([[0.        , 0.49681612, 0.61366674, 0.61366674, 0.        ],\n",
              "       [0.        , 0.8508161 , 0.        , 0.52546357, 0.        ],\n",
              "       [0.57735027, 0.        , 0.57735027, 0.        , 0.57735027],\n",
              "       [0.61366674, 0.49681612, 0.        , 0.        , 0.61366674]])"
            ]
          },
          "metadata": {},
          "execution_count": 34
        }
      ]
    },
    {
      "cell_type": "code",
      "source": [
        "print(tfid.idf_)"
      ],
      "metadata": {
        "colab": {
          "base_uri": "https://localhost:8080/"
        },
        "id": "W5NFeIlrNin0",
        "outputId": "8ce2b2f3-41d3-4a4c-f89e-500497ed201b"
      },
      "execution_count": 35,
      "outputs": [
        {
          "output_type": "stream",
          "name": "stdout",
          "text": [
            "[1.51082562 1.22314355 1.51082562 1.51082562 1.51082562]\n"
          ]
        }
      ]
    },
    {
      "cell_type": "code",
      "source": [],
      "metadata": {
        "id": "6J8MkityNile"
      },
      "execution_count": null,
      "outputs": []
    },
    {
      "cell_type": "code",
      "source": [],
      "metadata": {
        "id": "o_kQ_-3rNijI"
      },
      "execution_count": null,
      "outputs": []
    },
    {
      "cell_type": "code",
      "source": [],
      "metadata": {
        "id": "MEGbc2FkNihe"
      },
      "execution_count": null,
      "outputs": []
    },
    {
      "cell_type": "code",
      "source": [],
      "metadata": {
        "id": "SKJY7EQpGIX6"
      },
      "execution_count": null,
      "outputs": []
    },
    {
      "cell_type": "code",
      "source": [],
      "metadata": {
        "id": "J4cgrHVlGIVl"
      },
      "execution_count": null,
      "outputs": []
    },
    {
      "cell_type": "code",
      "source": [],
      "metadata": {
        "id": "-xAG0e8ZGISt"
      },
      "execution_count": null,
      "outputs": []
    },
    {
      "cell_type": "code",
      "source": [],
      "metadata": {
        "id": "2meBPvxUGIQH"
      },
      "execution_count": null,
      "outputs": []
    },
    {
      "cell_type": "code",
      "source": [],
      "metadata": {
        "id": "1Bfuk04ZGINl"
      },
      "execution_count": null,
      "outputs": []
    }
  ]
}